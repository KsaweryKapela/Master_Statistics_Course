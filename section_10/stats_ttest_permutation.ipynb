{
 "cells": [
  {
   "cell_type": "code",
   "execution_count": 1,
   "metadata": {},
   "outputs": [],
   "source": [
    "import matplotlib.pyplot as plt\n",
    "import numpy as np\n",
    "import scipy.stats as stats"
   ]
  },
  {
   "cell_type": "code",
   "execution_count": 4,
   "metadata": {},
   "outputs": [
    {
     "data": {
      "image/png": "[encoded data removed]",
      "text/plain": [
       "<Figure size 432x288 with 1 Axes>"
      ]
     },
     "metadata": {
      "needs_background": "light"
     },
     "output_type": "display_data"
    }
   ],
   "source": [
    "N = 100\n",
    "\n",
    "r = np.random.randn(N)\n",
    "r[r > 0] = np.log(1 + r[r > 0])\n",
    "data_1 = 26 - r * 10\n",
    "\n",
    "y_1, x_1 = np.histogram(data_1, 20)\n",
    "x_1 = (x_1[:-1]+x_1[1:])/2\n",
    "\n",
    "r = np.random.randn(N)\n",
    "r[r>0] = np.log(1 + r[r > 0])\n",
    "data_2 = 30 - r * 10\n",
    "\n",
    "y_2, x_2 = np.histogram(data_2, 20)\n",
    "x_2 = (x_2[:-1] + x_2[1:]) / 2\n",
    "\n",
    "\n",
    "plt.stem(x_1, y_1, 'b', markerfmt='bo', basefmt=' ', label='Data 1')\n",
    "plt.stem(x_2, y_2, 'r', markerfmt='ro', basefmt=' ', label='Data 2')\n",
    "plt.legend()\n",
    "plt.show()"
   ]
  },
  {
   "cell_type": "code",
   "execution_count": 5,
   "metadata": {},
   "outputs": [],
   "source": [
    "all_data = np.hstack((data_1, data_2))\n",
    "\n",
    "conditions = np.hstack((np.ones(N), 2 * np.ones(N)))"
   ]
  },
  {
   "cell_type": "code",
   "execution_count": 6,
   "metadata": {},
   "outputs": [
    {
     "name": "stdout",
     "output_type": "stream",
     "text": [
      "[26.484519442169475, 31.565248114184836]\n",
      "[29.58693945598647, 28.462828100367844]\n"
     ]
    }
   ],
   "source": [
    "# null hypothesis\n",
    "\n",
    "fake_conditions = np.random.permutation(N*2)\n",
    "\n",
    "fake_conditions[fake_conditions < N] = 1\n",
    "fake_conditions[fake_conditions > 1] = 2\n",
    "\n",
    "\n",
    "print([np.mean(all_data[conditions == 1]), np.mean(all_data[conditions == 2])])\n",
    "print([np.mean(all_data[fake_conditions == 1]), np.mean(all_data[fake_conditions ==2 ])])\n"
   ]
  },
  {
   "cell_type": "code",
   "execution_count": 9,
   "metadata": {},
   "outputs": [
    {
     "data": {
      "image/png": "[encoded data removed]",
      "text/plain": [
       "<Figure size 432x288 with 1 Axes>"
      ]
     },
     "metadata": {
      "needs_background": "light"
     },
     "output_type": "display_data"
    }
   ],
   "source": [
    "# distribution of null hypothesis\n",
    "\n",
    "permutations_n = 1000\n",
    "permutation_diffs = np.zeros(permutations_n)\n",
    "\n",
    "for permi in range(permutations_n):\n",
    "    f_conds = np.random.permutation(N * 2)\n",
    "    f_conds[f_conds<N] = 1\n",
    "    f_conds[f_conds>1] = 2\n",
    "    permutation_diffs[permi] = np.mean(all_data[f_conds == 2]) - np.mean(all_data[f_conds == 1])\n",
    "\n",
    "\n",
    "plt.hist(permutation_diffs, 50)\n",
    "\n",
    "observed_value = np.mean(all_data[conditions == 2]) - np.mean(all_data[conditions == 1])\n",
    "plt.plot([observed_value, observed_value], [0, 50], 'm', linewidth = 10)\n",
    "plt.xlabel('Value')\n",
    "plt.ylabel('Count')\n",
    "plt.show()"
   ]
  },
  {
   "cell_type": "code",
   "execution_count": 12,
   "metadata": {},
   "outputs": [
    {
     "name": "stdout",
     "output_type": "stream",
     "text": [
      "2.3997466267466905e-06 0.0\n"
     ]
    }
   ],
   "source": [
    "## two methods of evaluating significance\n",
    "\n",
    "# Z-value\n",
    "z_value = (observed_value - np.mean(permutation_diffs)) / np.std(permutation_diffs, ddof = 1)\n",
    "p_value = 1 - stats.norm.cdf(abs(z_value))\n",
    "\n",
    "# p-value count\n",
    "p_count = sum(permutation_diffs > observed_value) / permutations_n\n",
    "\n",
    "print(p_value, p_count)"
   ]
  }
 ],
 "metadata": {
  "kernelspec": {
   "display_name": "Python 3",
   "language": "python",
   "name": "python3"
  },
  "language_info": {
   "codemirror_mode": {
    "name": "ipython",
    "version": 3
   },
   "file_extension": ".py",
   "mimetype": "text/x-python",
   "name": "python",
   "nbconvert_exporter": "python",
   "pygments_lexer": "ipython3",
   "version": "3.10.3 (tags/v3.10.3:a342a49, Mar 16 2022, 13:07:40) [MSC v.1929 64 bit (AMD64)]"
  },
  "vscode": {
   "interpreter": {
    "hash": "8c3d4d9970fc5c09c50d9318a9c7fbf4d0159e4b28833276f5678ee22bded273"
   }
  }
 },
 "nbformat": 4,
 "nbformat_minor": 2
}
