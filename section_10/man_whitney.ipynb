{
 "cells": [
  {
   "cell_type": "code",
   "execution_count": 1,
   "metadata": {},
   "outputs": [],
   "source": [
    "import matplotlib.pyplot as plt\n",
    "import numpy as np\n",
    "import scipy.stats as stats"
   ]
  },
  {
   "cell_type": "code",
   "execution_count": 4,
   "metadata": {},
   "outputs": [
    {
     "data": {
      "image/png": "[encoded data removed]",
      "text/plain": [
       "<Figure size 432x288 with 1 Axes>"
      ]
     },
     "metadata": {
      "needs_background": "light"
     },
     "output_type": "display_data"
    }
   ],
   "source": [
    "n_1 = 30\n",
    "n_2 = 35\n",
    "\n",
    "data_1 = np.random.poisson(2, n_1)\n",
    "data_2 = np.random.poisson(1, n_2)\n",
    "\n",
    "plt.plot(1 + np.random.randn(n_1) / 10, data_1, 'ks', markerfacecolor='w')\n",
    "plt.plot(2 + np.random.randn(n_2) / 10, data_2, 'ro', markerfacecolor='w')\n",
    "\n",
    "plt.xlim([0,3])\n",
    "plt.xticks([1,2], labels=('data_1','data_2'))\n",
    "plt.xlabel('Data group')\n",
    "plt.ylabel('Data value')\n",
    "plt.show()"
   ]
  },
  {
   "cell_type": "code",
   "execution_count": 5,
   "metadata": {},
   "outputs": [
    {
     "name": "stdout",
     "output_type": "stream",
     "text": [
      "606.0 0.2737572702773301\n"
     ]
    }
   ],
   "source": [
    "U, p = stats.mannwhitneyu(data_1, data_2)\n",
    "\n",
    "print(U, p)"
   ]
  }
 ],
 "metadata": {
  "kernelspec": {
   "display_name": "Python 3",
   "language": "python",
   "name": "python3"
  },
  "language_info": {
   "codemirror_mode": {
    "name": "ipython",
    "version": 3
   },
   "file_extension": ".py",
   "mimetype": "text/x-python",
   "name": "python",
   "nbconvert_exporter": "python",
   "pygments_lexer": "ipython3",
   "version": "3.10.3 (tags/v3.10.3:a342a49, Mar 16 2022, 13:07:40) [MSC v.1929 64 bit (AMD64)]"
  },
  "vscode": {
   "interpreter": {
    "hash": "8c3d4d9970fc5c09c50d9318a9c7fbf4d0159e4b28833276f5678ee22bded273"
   }
  }
 },
 "nbformat": 4,
 "nbformat_minor": 2
}
